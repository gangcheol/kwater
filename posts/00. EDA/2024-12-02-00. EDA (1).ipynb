{
 "cells": [
  {
   "cell_type": "raw",
   "id": "cece47cf-3af3-4391-8a79-ee0d82b6a769",
   "metadata": {},
   "source": [
    "---\n",
    "title : \"00. EDA (1)\"\n",
    "author : \"GC\"\n",
    "date : \"12/02/24\"\n",
    "categories : [EDA]\n",
    "---"
   ]
  },
  {
   "cell_type": "markdown",
   "id": "db156e02-0b83-420e-b328-ac0d70a9c191",
   "metadata": {},
   "source": [
    "# import"
   ]
  },
  {
   "cell_type": "code",
   "execution_count": 5,
   "id": "edce1da0-ba39-421c-a914-39f054350329",
   "metadata": {},
   "outputs": [],
   "source": [
    "import plotly.express as px\n",
    "import plotly.io as pio\n",
    "pio.renderers.default = \"plotly_mimetype+notebook_connected\"\n",
    "import numpy as np\n",
    "import pandas as pd"
   ]
  },
  {
   "cell_type": "markdown",
   "id": "1ce4d74a-8c2c-42c3-90a6-046476a5a97f",
   "metadata": {},
   "source": [
    "# 공모전 개요"
   ]
  },
  {
   "cell_type": "markdown",
   "id": "b7c425c7-2d5c-43b8-a190-eaecb0b5601a",
   "metadata": {},
   "source": [
    "`1` 평가 데이터에서 최대 1주일 분량의 분 단위 입력 데이터를 바탕으로 `T+1`분 시점의 이상 여부를 감지\n",
    "\n",
    "`2` 관망 구조 내 존재하는 각각의 압력계(P)에 대해 이상을 감지할 수 있어야 한다."
   ]
  },
  {
   "cell_type": "markdown",
   "id": "f864dec1-a413-4a70-b489-0115c090ecd3",
   "metadata": {},
   "source": [
    "# Data load"
   ]
  },
  {
   "cell_type": "code",
   "execution_count": 6,
   "id": "8b18e480-d2ce-4f35-9e9e-8f95141eee60",
   "metadata": {},
   "outputs": [],
   "source": [
    "train_a = pd.read_csv(\"D:/projects/kwater_data/open/train/TRAIN_A.csv\")\n",
    "train_b = pd.read_csv(\"D:/projects/kwater_data/open/train/TRAIN_B.csv\")"
   ]
  },
  {
   "cell_type": "code",
   "execution_count": 7,
   "id": "171c8777-7c50-472c-9d9d-d9a2530d4666",
   "metadata": {},
   "outputs": [
    {
     "data": {
      "text/plain": [
       "Index(['timestamp', 'Q1', 'Q2', 'Q3', 'Q4', 'Q5', 'M1', 'M2', 'M3', 'M4', 'M5',\n",
       "       'M6', 'M7', 'M8', 'M9', 'M10', 'M11', 'M12', 'M13', 'M14', 'P1', 'P2',\n",
       "       'P3', 'P4', 'P5', 'P6', 'P7', 'P8', 'P9', 'P10', 'P11', 'P12', 'P13',\n",
       "       'P14', 'P15', 'P16', 'P17', 'P18', 'P19', 'P20', 'P21', 'P22', 'P23',\n",
       "       'P24', 'P25', 'P26', 'anomaly', 'P1_flag', 'P2_flag', 'P3_flag',\n",
       "       'P4_flag', 'P5_flag', 'P6_flag', 'P7_flag', 'P8_flag', 'P9_flag',\n",
       "       'P10_flag', 'P11_flag', 'P12_flag', 'P13_flag', 'P14_flag', 'P15_flag',\n",
       "       'P16_flag', 'P17_flag', 'P18_flag', 'P19_flag', 'P20_flag', 'P21_flag',\n",
       "       'P22_flag', 'P23_flag', 'P24_flag', 'P25_flag', 'P26_flag'],\n",
       "      dtype='object')"
      ]
     },
     "execution_count": 7,
     "metadata": {},
     "output_type": "execute_result"
    }
   ],
   "source": [
    "train_a.columns"
   ]
  },
  {
   "cell_type": "code",
   "execution_count": 8,
   "id": "6a77595e-e708-4fc9-b804-787384502768",
   "metadata": {},
   "outputs": [
    {
     "data": {
      "text/plain": [
       "(44101, 73)"
      ]
     },
     "execution_count": 8,
     "metadata": {},
     "output_type": "execute_result"
    }
   ],
   "source": [
    "train_a.shape"
   ]
  },
  {
   "cell_type": "code",
   "execution_count": 9,
   "id": "abef844f-261f-4ebf-b7f1-5af6592908a3",
   "metadata": {},
   "outputs": [
    {
     "data": {
      "text/plain": [
       "Index(['timestamp', 'Q1', 'Q2', 'Q3', 'Q4', 'P1', 'P2', 'P3', 'P4', 'P5', 'P6',\n",
       "       'P7', 'P8', 'P9', 'P10', 'anomaly', 'P1_flag', 'P2_flag', 'P3_flag',\n",
       "       'P4_flag', 'P5_flag', 'P6_flag', 'P7_flag', 'P8_flag', 'P9_flag',\n",
       "       'P10_flag'],\n",
       "      dtype='object')"
      ]
     },
     "execution_count": 9,
     "metadata": {},
     "output_type": "execute_result"
    }
   ],
   "source": [
    "train_b.columns"
   ]
  },
  {
   "cell_type": "code",
   "execution_count": 10,
   "id": "3afac62f-3331-4f62-b0c3-c497c63775c0",
   "metadata": {},
   "outputs": [],
   "source": [
    "#train_b.head()"
   ]
  },
  {
   "cell_type": "code",
   "execution_count": 11,
   "id": "6a2ec9ad-1193-49d4-82db-27942455d57c",
   "metadata": {},
   "outputs": [],
   "source": [
    "test_c = pd.read_csv(\"D:/projects/kwater_data/open/test/C/TEST_C_0000.csv\")\n",
    "test_ｄ = pd.read_csv(\"D:/projects/kwater_data/open/test/D/TEST_D_0000.csv\")"
   ]
  },
  {
   "cell_type": "code",
   "execution_count": 12,
   "id": "1f217cef-4280-429b-ab57-ae6c4fd78d26",
   "metadata": {},
   "outputs": [
    {
     "data": {
      "text/plain": [
       "Index(['timestamp', 'Q1', 'Q2', 'Q3', 'Q4', 'Q5', 'Q6', 'Q7', 'Q8', 'M1', 'M2',\n",
       "       'M3', 'M4', 'M5', 'M6', 'M7', 'M8', 'M9', 'M10', 'P1', 'P2', 'P3', 'P4',\n",
       "       'P5', 'P6', 'P7', 'P8'],\n",
       "      dtype='object')"
      ]
     },
     "execution_count": 12,
     "metadata": {},
     "output_type": "execute_result"
    }
   ],
   "source": [
    "test_c.columns"
   ]
  },
  {
   "cell_type": "code",
   "execution_count": 13,
   "id": "45a6e87e-9623-470e-b08f-1945329740a4",
   "metadata": {},
   "outputs": [
    {
     "data": {
      "text/plain": [
       "Index(['timestamp', 'Q1', 'Q2', 'Q3', 'Q4', 'Q5', 'M1', 'M2', 'M3', 'M4', 'M5',\n",
       "       'M6', 'M7', 'M8', 'M9', 'M10', 'M11', 'P1', 'P2', 'P3', 'P4', 'P5',\n",
       "       'P6'],\n",
       "      dtype='object')"
      ]
     },
     "execution_count": 13,
     "metadata": {},
     "output_type": "execute_result"
    }
   ],
   "source": [
    "test_d.columns"
   ]
  },
  {
   "cell_type": "markdown",
   "id": "bea7d227-7361-40b7-a32f-9cb73f293d5e",
   "metadata": {},
   "source": [
    "***"
   ]
  },
  {
   "cell_type": "markdown",
   "id": "412387aa-cf12-472f-9984-ed3608f79a52",
   "metadata": {},
   "source": [
    "# Do next"
   ]
  },
  {
   "cell_type": "markdown",
   "id": "51a070db-f1fa-46af-ac99-3bbc042edf3f",
   "metadata": {},
   "source": [
    "`1` 지홍이형이 간단 모델 돌려온 거 보고 인사이트를 얻자"
   ]
  }
 ],
 "metadata": {
  "kernelspec": {
   "display_name": "Python 3 (ipykernel)",
   "language": "python",
   "name": "python3"
  },
  "language_info": {
   "codemirror_mode": {
    "name": "ipython",
    "version": 3
   },
   "file_extension": ".py",
   "mimetype": "text/x-python",
   "name": "python",
   "nbconvert_exporter": "python",
   "pygments_lexer": "ipython3",
   "version": "3.11.7"
  }
 },
 "nbformat": 4,
 "nbformat_minor": 5
}
