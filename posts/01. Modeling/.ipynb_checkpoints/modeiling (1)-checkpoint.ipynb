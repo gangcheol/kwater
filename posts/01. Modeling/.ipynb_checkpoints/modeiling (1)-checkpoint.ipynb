{
 "cells": [
  {
   "cell_type": "code",
   "execution_count": 158,
   "id": "7a8d63f8-e51c-4c31-aaef-d830b175a43e",
   "metadata": {},
   "outputs": [],
   "source": [
    "#!pip install torch torchvision numpy matplotlib"
   ]
  },
  {
   "cell_type": "markdown",
   "id": "cef2da5d-d1b3-4ce7-a70d-17aa2c570a18",
   "metadata": {},
   "source": [
    "# import"
   ]
  },
  {
   "cell_type": "code",
   "execution_count": 159,
   "id": "b9ca7a9e-f041-4d41-9fac-f4f80ca36616",
   "metadata": {},
   "outputs": [],
   "source": [
    "import torch\n",
    "import torch.nn as nn\n",
    "import torch.optim as optim\n",
    "import numpy as np\n",
    "import matplotlib.pyplot as plt"
   ]
  },
  {
   "cell_type": "code",
   "execution_count": 160,
   "id": "70d4c12a-ddf8-4d23-8c77-f184e30d2b17",
   "metadata": {},
   "outputs": [],
   "source": [
    "device = torch.device(\"cuda\" if torch.cuda.is_available() else \"cpu\")"
   ]
  },
  {
   "cell_type": "markdown",
   "id": "f7360a6b-15bd-46d9-b199-546c6ace1308",
   "metadata": {},
   "source": [
    "# 1. Anomaly Transformer 모델 정의"
   ]
  },
  {
   "cell_type": "code",
   "execution_count": 161,
   "id": "67b80052-11b6-46cd-b2fc-396f716684a2",
   "metadata": {},
   "outputs": [],
   "source": [
    "class AnomalyTransformer(nn.Module):\n",
    "    def __init__(self, input_dim, seq_len, num_heads, num_layers, dropout=0.1):\n",
    "        super(AnomalyTransformer, self).__init__()\n",
    "        self.input_dim = input_dim\n",
    "        self.seq_len = seq_len\n",
    "        self.num_heads = num_heads\n",
    "\n",
    "        # Embedding Layer\n",
    "        self.embedding = nn.Linear(input_dim, input_dim)\n",
    "\n",
    "        # Positional Encoding\n",
    "        self.positional_encoding = nn.Parameter(torch.randn(1, seq_len, input_dim))\n",
    "\n",
    "        # Transformer Encoder\n",
    "        encoder_layer = nn.TransformerEncoderLayer(d_model=input_dim, nhead=num_heads, dropout=dropout)\n",
    "        self.transformer_encoder = nn.TransformerEncoder(encoder_layer, num_layers=num_layers)\n",
    "\n",
    "        # Attention Score Calculation\n",
    "        self.attention_fc = nn.Linear(input_dim, seq_len)  # 이 부분의 출력 크기를 확인\n",
    "\n",
    "        # Discrepancy Calculation\n",
    "        self.discrepancy_fc = nn.Linear(seq_len * seq_len, 1)  # attention_map의 펼친 차원을 입력\n",
    "\n",
    "    def forward(self, x):\n",
    "        \"\"\"\n",
    "        Input shape: (batch_size, seq_len, input_dim)\n",
    "        Output: (batch_size, 1) - Anomaly scores\n",
    "        \"\"\"\n",
    "        batch_size, seq_len, _ = x.size()\n",
    "        assert seq_len == self.seq_len, f\"Expected seq_len={self.seq_len}, but got seq_len={seq_len}\"\n",
    "\n",
    "        # Embedding + Positional Encoding\n",
    "        x = self.embedding(x) + self.positional_encoding\n",
    "\n",
    "        # Transformer Encoder\n",
    "        x = self.transformer_encoder(x)\n",
    "\n",
    "        # Attention Score Calculation\n",
    "        attention_map = torch.matmul(x, x.transpose(1, 2)) / self.num_heads  # (batch_size, seq_len, seq_len)\n",
    "\n",
    "        # Flatten the attention map for fully connected layer\n",
    "        attention_flat = attention_map.view(batch_size, -1)  # (batch_size, seq_len * seq_len)\n",
    "        discrepancy = self.discrepancy_fc(attention_flat)  # (batch_size, 1)\n",
    "\n",
    "        return discrepancy\n"
   ]
  },
  {
   "cell_type": "markdown",
   "id": "2a94ad17-07c1-42c7-8c44-d24526add331",
   "metadata": {},
   "source": [
    "# 2. 데이터 준비"
   ]
  },
  {
   "cell_type": "code",
   "execution_count": 162,
   "id": "caed3227-8d2e-4bea-82a0-fee7ab81b1e1",
   "metadata": {},
   "outputs": [],
   "source": [
    "import numpy as np\n",
    "import torch\n",
    "\n",
    "# Dummy 데이터 생성\n",
    "def create_dummy_data(num_samples=1000, sequence_length=30, feature_dim=10):\n",
    "    data = np.random.normal(size=(num_samples, sequence_length, feature_dim))\n",
    "    labels = np.random.choice([0, 1], size=num_samples, p = [0.95, 0.05])  # 정상(0), 이상(1) 레이블\n",
    "    return data, labels\n",
    "\n",
    "# 데이터 로드\n",
    "sequence_length = 30\n",
    "feature_dim = 12\n",
    "num_samples = 1000\n",
    "\n",
    "data, labels = create_dummy_data(num_samples, sequence_length, feature_dim)\n",
    "\n",
    "# PyTorch 텐서로 변환\n",
    "data_tensor = torch.tensor(data, dtype=torch.float32)\n",
    "labels_tensor = torch.tensor(labels, dtype=torch.float32)"
   ]
  },
  {
   "cell_type": "code",
   "execution_count": 163,
   "id": "a9841596-42f1-43f6-b053-2f297fb44421",
   "metadata": {},
   "outputs": [
    {
     "data": {
      "text/plain": [
       "(tensor([0., 1.]), tensor([956,  44]))"
      ]
     },
     "execution_count": 163,
     "metadata": {},
     "output_type": "execute_result"
    }
   ],
   "source": [
    "labels_tensor.unique(return_counts = True)"
   ]
  },
  {
   "cell_type": "code",
   "execution_count": 164,
   "id": "37af35c5-ca44-412e-8839-c1a82e10662a",
   "metadata": {},
   "outputs": [
    {
     "name": "stdout",
     "output_type": "stream",
     "text": [
      "Input shape before: torch.Size([1000, 30, 12])\n",
      "Input shape after adjustment: torch.Size([1000, 30, 12])\n"
     ]
    }
   ],
   "source": [
    "# 데이터 크기 확인\n",
    "print(f\"Input shape before: {data_tensor.shape}\")\n",
    "\n",
    "# 필요 시 크기 조정\n",
    "if len(data_tensor.shape) == 2:\n",
    "    data_tensor = data_tensor.unsqueeze(-1)  # (batch_size, seq_len, input_dim)\n",
    "\n",
    "print(f\"Input shape after adjustment: {data_tensor.shape}\")\n"
   ]
  },
  {
   "cell_type": "markdown",
   "id": "27f990a9-0723-48b8-b718-dd68c816a127",
   "metadata": {},
   "source": [
    "# 3. 모델 학습"
   ]
  },
  {
   "cell_type": "code",
   "execution_count": 165,
   "id": "e37eeac8-ae95-4e8a-a465-29795f0c3af6",
   "metadata": {},
   "outputs": [
    {
     "name": "stderr",
     "output_type": "stream",
     "text": [
      "/home/jupyter-rkdcjf8232/.local/lib/python3.10/site-packages/torch/nn/modules/transformer.py:379: UserWarning: enable_nested_tensor is True, but self.use_nested_tensor is False because encoder_layer.self_attn.batch_first was not True(use batch_first for better inference performance)\n",
      "  warnings.warn(\n"
     ]
    },
    {
     "name": "stdout",
     "output_type": "stream",
     "text": [
      "Epoch 1/10, Loss: 0.07684405563399195\n",
      "Epoch 2/10, Loss: 0.004637479749508202\n",
      "Epoch 3/10, Loss: 0.001985558783635497\n",
      "Epoch 4/10, Loss: 0.0015098400111310183\n",
      "Epoch 5/10, Loss: 0.0009821641095913948\n",
      "Epoch 6/10, Loss: 0.0008279510936699808\n",
      "Epoch 7/10, Loss: 0.0008808718901127577\n",
      "Epoch 8/10, Loss: 0.0007669400749728084\n",
      "Epoch 9/10, Loss: 0.0008671140717342496\n",
      "Epoch 10/10, Loss: 0.0007926417014095932\n"
     ]
    }
   ],
   "source": [
    "# 모델 초기화\n",
    "input_dim = feature_dim\n",
    "sequence_length = 30  # seq_len\n",
    "num_heads = 2\n",
    "num_layers = 3\n",
    "dropout = 0.1\n",
    "\n",
    "model = AnomalyTransformer(input_dim=input_dim, seq_len=sequence_length, num_heads=num_heads, num_layers=num_layers, dropout=dropout)\n",
    "\n",
    "# 손실 함수 및 옵티마이저\n",
    "criterion = nn.MSELoss()\n",
    "optimizer = torch.optim.Adam(model.parameters(), lr=0.001)\n",
    "\n",
    "# 데이터 준비\n",
    "train_data = data_tensor[:800]\n",
    "train_labels = labels_tensor[:800]\n",
    "\n",
    "# 학습 루프\n",
    "epochs = 10\n",
    "batch_size = 32\n",
    "\n",
    "for epoch in range(epochs):\n",
    "    model.train()\n",
    "    epoch_loss = 0.0\n",
    "    for i in range(0, len(train_data), batch_size):\n",
    "        batch_data = train_data[i:i+batch_size]\n",
    "        optimizer.zero_grad()\n",
    "        scores = model(batch_data)\n",
    "        loss = criterion(scores, torch.zeros_like(scores))  # 정상 데이터를 기반으로 학습\n",
    "        loss.backward()\n",
    "        optimizer.step()\n",
    "        epoch_loss += loss.item()\n",
    "    print(f\"Epoch {epoch+1}/{epochs}, Loss: {epoch_loss / len(train_data)}\")\n"
   ]
  },
  {
   "cell_type": "markdown",
   "id": "31146c6c-111a-4c54-84c4-88ab37d92815",
   "metadata": {},
   "source": [
    "# 4. 결과 시각화 및 이상 점수 계산"
   ]
  },
  {
   "cell_type": "code",
   "execution_count": 166,
   "id": "8edf5f87-13d7-40f2-b66d-126c9dc4e6b7",
   "metadata": {},
   "outputs": [
    {
     "data": {
      "image/png": "[encoded data removed]",
      "text/plain": [
       "<Figure size 640x480 with 1 Axes>"
      ]
     },
     "metadata": {},
     "output_type": "display_data"
    }
   ],
   "source": [
    "# 평가 데이터\n",
    "test_data = data_tensor[800:]\n",
    "\n",
    "# 이상 점수 계산\n",
    "def calculate_anomaly_scores(data, model):\n",
    "    model.eval()\n",
    "    with torch.no_grad():\n",
    "        scores = model(data)\n",
    "    return scores\n",
    "\n",
    "# 점수 계산\n",
    "anomaly_scores = calculate_anomaly_scores(test_data, model).cpu().numpy()\n",
    "\n",
    "# 임계값 설정\n",
    "threshold = np.percentile(anomaly_scores, 95)\n",
    "\n",
    "# 이상 여부 판정\n",
    "predicted_anomalies = anomaly_scores > threshold\n",
    "\n",
    "# 시각화\n",
    "import matplotlib.pyplot as plt\n",
    "\n",
    "plt.hist(anomaly_scores, bins=50, alpha=0.7, label=\"Anomaly Scores\")\n",
    "plt.axvline(threshold, color='r', linestyle='--', label=\"Threshold\")\n",
    "plt.legend()\n",
    "plt.title(\"Anomaly Scores Distribution\")\n",
    "plt.show()"
   ]
  },
  {
   "cell_type": "markdown",
   "id": "830bf140-922b-4cd4-b59f-f568698df4b3",
   "metadata": {},
   "source": [
    "# do next"
   ]
  },
  {
   "cell_type": "markdown",
   "id": "8a46a965-f060-4f90-98f4-07aa39cdce6c",
   "metadata": {},
   "source": [
    "`1` 이제 이거를 우리 데이터를 끌고와서 적용시키기\n",
    "\n",
    "`2` 제출함수 작성 고민..."
   ]
  }
 ],
 "metadata": {
  "kernelspec": {
   "display_name": "Python 3 (ipykernel)",
   "language": "python",
   "name": "python3"
  },
  "language_info": {
   "codemirror_mode": {
    "name": "ipython",
    "version": 3
   },
   "file_extension": ".py",
   "mimetype": "text/x-python",
   "name": "python",
   "nbconvert_exporter": "python",
   "pygments_lexer": "ipython3",
   "version": "3.11.7"
  }
 },
 "nbformat": 4,
 "nbformat_minor": 5
}
