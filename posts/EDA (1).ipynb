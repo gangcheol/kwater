{
 "cells": [
  {
   "cell_type": "raw",
   "id": "615f6099-a6b6-45a4-acc5-d574cf4cd9cf",
   "metadata": {},
   "source": [
    "---\n",
    "title : \"00. EDA (1)\"\n",
    "author : \"GC\"\n",
    "date : \"12/12/24\"\n",
    "---"
   ]
  },
  {
   "cell_type": "markdown",
   "id": "49b8b907-b54b-4dca-bb56-09c424b7ae37",
   "metadata": {},
   "source": [
    "# Intro"
   ]
  },
  {
   "cell_type": "markdown",
   "id": "b088c6dd-de3f-484a-bb9c-1b4c41561547",
   "metadata": {},
   "source": [
    "`1` train data와 test data 분포를 살펴보고 `val_data` 만들기"
   ]
  },
  {
   "cell_type": "markdown",
   "id": "f368e18f-6010-4e0b-be21-8c51eb6146d6",
   "metadata": {},
   "source": [
    "`2` val_data를 평가 데이터로 사용해서 학습시킨 모델의 성능을 1차적으로 평가하기"
   ]
  },
  {
   "cell_type": "markdown",
   "id": "138e13a7-09f6-4fbf-9dce-a86b25e1fb4b",
   "metadata": {},
   "source": [
    "# import"
   ]
  },
  {
   "cell_type": "code",
   "execution_count": 3,
   "id": "73bb22e4-d8e6-44e8-94e0-388a9a401dac",
   "metadata": {},
   "outputs": [],
   "source": [
    "# | code-fold : true\n",
    "import pandas as pd"
   ]
  },
  {
   "cell_type": "markdown",
   "id": "27dd3cca-3352-4e61-a7e7-335fbd02d7df",
   "metadata": {},
   "source": [
    "# Data load"
   ]
  },
  {
   "cell_type": "markdown",
   "id": "e4941ced-65be-42ab-b326-e8673591fa47",
   "metadata": {},
   "source": [
    "## (1) train"
   ]
  },
  {
   "cell_type": "code",
   "execution_count": 9,
   "id": "8f4b1ede-c7aa-4cb2-a66b-afbf7b20c193",
   "metadata": {},
   "outputs": [],
   "source": [
    "train_a = pd.read_csv(\"TRAIN_A.csv\")\n",
    "train_b = pd.read_csv(\"TRAIN_B.csv\")"
   ]
  },
  {
   "cell_type": "markdown",
   "id": "77d4aeed-2de7-4283-bcdf-00184f94efe9",
   "metadata": {},
   "source": [
    "`1` train_a : 24/05/27 - 24/06/26 까지의 데이터 셋\n",
    "\n",
    "`2` train_b : 24/07/01 - 24/07/29 까지의 데이터 셋\n",
    "\n",
    "- 학습 데이터는 30일 데이터임"
   ]
  },
  {
   "cell_type": "code",
   "execution_count": 7,
   "id": "975761ef-19cc-4a5f-a5f3-d9c6cb0d6c24",
   "metadata": {},
   "outputs": [
    {
     "data": {
      "text/plain": [
       "0        24/05/27 00:00\n",
       "1        24/05/27 00:01\n",
       "2        24/05/27 00:02\n",
       "3        24/05/27 00:03\n",
       "4        24/05/27 00:04\n",
       "              ...      \n",
       "44096    24/06/26 14:56\n",
       "44097    24/06/26 14:57\n",
       "44098    24/06/26 14:58\n",
       "44099    24/06/26 14:59\n",
       "44100    24/06/26 15:00\n",
       "Name: timestamp, Length: 44101, dtype: object"
      ]
     },
     "execution_count": 7,
     "metadata": {},
     "output_type": "execute_result"
    }
   ],
   "source": [
    "train_a[\"timestamp\"]"
   ]
  },
  {
   "cell_type": "code",
   "execution_count": 11,
   "id": "1ac8f1ca-5f80-4581-bda8-f9a75015a494",
   "metadata": {},
   "outputs": [
    {
     "data": {
      "text/plain": [
       "0         2024-07-01 0:00\n",
       "1         2024-07-01 0:01\n",
       "2         2024-07-01 0:02\n",
       "3         2024-07-01 0:03\n",
       "4         2024-07-01 0:04\n",
       "               ...       \n",
       "41755    2024-07-29 23:55\n",
       "41756    2024-07-29 23:56\n",
       "41757    2024-07-29 23:57\n",
       "41758    2024-07-29 23:58\n",
       "41759    2024-07-29 23:59\n",
       "Name: timestamp, Length: 41760, dtype: object"
      ]
     },
     "execution_count": 11,
     "metadata": {},
     "output_type": "execute_result"
    }
   ],
   "source": [
    "train_b[\"timestamp\"]"
   ]
  },
  {
   "cell_type": "markdown",
   "id": "8f477c9c-e56f-4146-a97f-d2646cc22286",
   "metadata": {},
   "source": [
    "`-` 이상치 분포 확인 결과 분포가 극악이다...\n",
    "\n",
    "- 거의 1400:1의 분포임\n",
    "\n",
    "- 나중에 임계치 설정할 때 진짜 임계치를 높게 설정해야할 듯하다."
   ]
  },
  {
   "cell_type": "code",
   "execution_count": 14,
   "id": "00c80cda-b350-4d48-84ee-87e301b610dd",
   "metadata": {},
   "outputs": [
    {
     "data": {
      "text/plain": [
       "anomaly\n",
       "0    44071\n",
       "1       30\n",
       "Name: count, dtype: int64"
      ]
     },
     "execution_count": 14,
     "metadata": {},
     "output_type": "execute_result"
    }
   ],
   "source": [
    "train_a.anomaly.value_counts()"
   ]
  },
  {
   "cell_type": "code",
   "execution_count": 13,
   "id": "b6c50246-575f-448d-aabb-50364072403b",
   "metadata": {},
   "outputs": [
    {
     "data": {
      "text/plain": [
       "anomaly\n",
       "0    41727\n",
       "1       33\n",
       "Name: count, dtype: int64"
      ]
     },
     "execution_count": 13,
     "metadata": {},
     "output_type": "execute_result"
    }
   ],
   "source": [
    "train_b.anomaly.value_counts()"
   ]
  },
  {
   "cell_type": "markdown",
   "id": "91d08d72-8ceb-410b-896e-622376d25c8f",
   "metadata": {},
   "source": [
    "## (2) test"
   ]
  },
  {
   "cell_type": "code",
   "execution_count": 18,
   "id": "61bac693-aea3-4bed-be6b-9d0770a63973",
   "metadata": {},
   "outputs": [],
   "source": [
    "test_c1 = pd.read_csv(\"test/C/TEST_C_0000.csv\")\n",
    "test_c2 = pd.read_csv(\"test/C/TEST_C_2919.csv\")\n",
    "\n",
    "test_d1 = pd.read_csv(\"test/D/TEST_D_0000.csv\")\n",
    "test_d2 = pd.read_csv(\"test/D/TEST_D_2737.csv\")"
   ]
  },
  {
   "cell_type": "code",
   "execution_count": 49,
   "id": "e110ea9e-325d-49f0-bc92-33e405df5eac",
   "metadata": {},
   "outputs": [],
   "source": [
    "#test_c1"
   ]
  },
  {
   "cell_type": "code",
   "execution_count": 22,
   "id": "bb8c5a83-46ed-4600-a916-5ff883899e5b",
   "metadata": {},
   "outputs": [
    {
     "data": {
      "text/plain": [
       "(10080, 27)"
      ]
     },
     "execution_count": 22,
     "metadata": {},
     "output_type": "execute_result"
    }
   ],
   "source": [
    "test_c1.shape"
   ]
  },
  {
   "cell_type": "code",
   "execution_count": 23,
   "id": "2bf02c75-2126-4e6c-b4c1-c14da1e7dca1",
   "metadata": {},
   "outputs": [
    {
     "data": {
      "text/plain": [
       "(10080, 27)"
      ]
     },
     "execution_count": 23,
     "metadata": {},
     "output_type": "execute_result"
    }
   ],
   "source": [
    "test_c2.shape"
   ]
  },
  {
   "cell_type": "code",
   "execution_count": 25,
   "id": "6a659869-06e8-45f6-9c79-b75a41eaeae0",
   "metadata": {},
   "outputs": [
    {
     "data": {
      "text/plain": [
       "(10080, 23)"
      ]
     },
     "execution_count": 25,
     "metadata": {},
     "output_type": "execute_result"
    }
   ],
   "source": [
    "test_d1.shape"
   ]
  },
  {
   "cell_type": "code",
   "execution_count": 26,
   "id": "16ae78af-527b-40c4-b38e-395eb3aca889",
   "metadata": {},
   "outputs": [
    {
     "data": {
      "text/plain": [
       "(9819, 23)"
      ]
     },
     "execution_count": 26,
     "metadata": {},
     "output_type": "execute_result"
    }
   ],
   "source": [
    "test_d2.shape"
   ]
  },
  {
   "cell_type": "markdown",
   "id": "7b6a4f4b-1c2b-4941-97d7-2d4177411058",
   "metadata": {},
   "source": [
    "`1` test data는 한 개의 파일이 대략 10,000개니까 추론 시 3,000,000개를 추론해야함\n",
    "\n",
    "`2` 미친 짓임. 따라서 일단 val_data set을 생성해서 예측모델의 성능을 확보하는 게 맞는 것 같음"
   ]
  },
  {
   "cell_type": "markdown",
   "id": "5d68f495-cc5b-4efa-833d-f1169cf4766d",
   "metadata": {},
   "source": [
    "# Data set 분할\n"
   ]
  },
  {
   "cell_type": "markdown",
   "id": "bba8162f-2eb3-4823-8f58-74625a52c24d",
   "metadata": {},
   "source": [
    "`1` 대회에서 제공해준 함수를 활용하기 위해 test data와 같은 폴더 형식을 유지해서 데이터를 분할하자."
   ]
  },
  {
   "cell_type": "markdown",
   "id": "5232a054-1f51-4cb5-b37d-9e7e0616b505",
   "metadata": {},
   "source": [
    "`2` 그러기 위해선 일단 데이터를 `train_a`와 `train_b`를 8:2로 나누어 보고 이상치가 어떻게 분배되는지 확인"
   ]
  },
  {
   "cell_type": "code",
   "execution_count": 50,
   "id": "5b10a38c-f53f-4620-85fe-e40ae14b7ae5",
   "metadata": {},
   "outputs": [],
   "source": [
    "val_range = int(len(train_a)*0.8)"
   ]
  },
  {
   "cell_type": "code",
   "execution_count": 56,
   "id": "cb893555-62b5-4704-b3a6-af1452a42728",
   "metadata": {},
   "outputs": [],
   "source": [
    "train_A = train_a[: val_range ]\n",
    "val_A = train_a[val_range :]\n",
    "\n",
    "train_B = train_b[: val_range ]\n",
    "val_B = train_b[val_range :]"
   ]
  },
  {
   "cell_type": "markdown",
   "id": "482498b0-e9be-42e3-9a47-6b01345792e3",
   "metadata": {},
   "source": [
    "`3` OK, 그래도 Train B에서 이상치가 포함되어 다행인 듯.."
   ]
  },
  {
   "cell_type": "code",
   "execution_count": 57,
   "id": "ab5944e5-8d04-46cf-93c2-f5bae6a9219e",
   "metadata": {},
   "outputs": [
    {
     "data": {
      "text/plain": [
       "anomaly\n",
       "0    35280\n",
       "Name: count, dtype: int64"
      ]
     },
     "execution_count": 57,
     "metadata": {},
     "output_type": "execute_result"
    }
   ],
   "source": [
    "train_A.anomaly.value_counts()"
   ]
  },
  {
   "cell_type": "code",
   "execution_count": 58,
   "id": "579aff29-7acb-4aa3-bd66-d2c9124bb0c2",
   "metadata": {},
   "outputs": [
    {
     "data": {
      "text/plain": [
       "anomaly\n",
       "0    8791\n",
       "1      30\n",
       "Name: count, dtype: int64"
      ]
     },
     "execution_count": 58,
     "metadata": {},
     "output_type": "execute_result"
    }
   ],
   "source": [
    "val_A.anomaly.value_counts()"
   ]
  },
  {
   "cell_type": "code",
   "execution_count": 59,
   "id": "becb6a95-4861-43ae-940a-340458a064de",
   "metadata": {},
   "outputs": [
    {
     "data": {
      "text/plain": [
       "anomaly\n",
       "0    35247\n",
       "1       33\n",
       "Name: count, dtype: int64"
      ]
     },
     "execution_count": 59,
     "metadata": {},
     "output_type": "execute_result"
    }
   ],
   "source": [
    "train_B.anomaly.value_counts()"
   ]
  },
  {
   "cell_type": "code",
   "execution_count": 60,
   "id": "4e8f9c0a-e4a8-4040-b19b-18920694ba4d",
   "metadata": {},
   "outputs": [
    {
     "data": {
      "text/plain": [
       "anomaly\n",
       "0    6480\n",
       "Name: count, dtype: int64"
      ]
     },
     "execution_count": 60,
     "metadata": {},
     "output_type": "execute_result"
    }
   ],
   "source": [
    "val_B.anomaly.value_counts()"
   ]
  },
  {
   "cell_type": "code",
   "execution_count": 63,
   "id": "c50168a4-99df-48db-86ed-e7053f28ee1a",
   "metadata": {},
   "outputs": [
    {
     "data": {
      "text/plain": [
       "((8821, 73), (6480, 26))"
      ]
     },
     "execution_count": 63,
     "metadata": {},
     "output_type": "execute_result"
    }
   ],
   "source": [
    "train_A.to_csv(\"train_a.csv\", index = False)\n",
    "train_A.to_csv(\"train_a.csv\", index = False)\n",
    "\n",
    "\n",
    "val_A.to_csv(\"VAL_A.csv\",index = False)\n",
    "val_B.to_csv(\"VAL_B.csv\",index = False)\n",
    "\n"
   ]
  }
 ],
 "metadata": {
  "kernelspec": {
   "display_name": "Python 3 (ipykernel)",
   "language": "python",
   "name": "python3"
  },
  "language_info": {
   "codemirror_mode": {
    "name": "ipython",
    "version": 3
   },
   "file_extension": ".py",
   "mimetype": "text/x-python",
   "name": "python",
   "nbconvert_exporter": "python",
   "pygments_lexer": "ipython3",
   "version": "3.10.10"
  }
 },
 "nbformat": 4,
 "nbformat_minor": 5
}
